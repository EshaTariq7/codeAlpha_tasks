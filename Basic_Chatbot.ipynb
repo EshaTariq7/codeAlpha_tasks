{
 "cells": [
  {
   "cell_type": "code",
   "execution_count": 1,
   "id": "cc3e5edc-ac17-4a1e-b3e6-32ef229cf31a",
   "metadata": {},
   "outputs": [
    {
     "name": "stdout",
     "output_type": "stream",
     "text": [
      "Defaulting to user installation because normal site-packages is not writeable\n",
      "Requirement already satisfied: nltk in d:\\programdata\\anaconda3\\lib\\site-packages (3.8.1)\n",
      "Requirement already satisfied: click in d:\\programdata\\anaconda3\\lib\\site-packages (from nltk) (8.1.7)\n",
      "Requirement already satisfied: joblib in d:\\programdata\\anaconda3\\lib\\site-packages (from nltk) (1.2.0)\n",
      "Requirement already satisfied: regex>=2021.8.3 in d:\\programdata\\anaconda3\\lib\\site-packages (from nltk) (2023.10.3)\n",
      "Requirement already satisfied: tqdm in d:\\programdata\\anaconda3\\lib\\site-packages (from nltk) (4.65.0)\n",
      "Requirement already satisfied: colorama in d:\\programdata\\anaconda3\\lib\\site-packages (from click->nltk) (0.4.6)\n"
     ]
    }
   ],
   "source": [
    "!pip install nltk\n"
   ]
  },
  {
   "cell_type": "code",
   "execution_count": null,
   "id": "80b4fbce-0479-4fa7-a1cb-b0eccf754c66",
   "metadata": {},
   "outputs": [
    {
     "name": "stdout",
     "output_type": "stream",
     "text": [
      "Hello! I am a chatbot. Type 'quit' to exit.\n"
     ]
    },
    {
     "name": "stdin",
     "output_type": "stream",
     "text": [
      "You:  hi\n"
     ]
    },
    {
     "name": "stdout",
     "output_type": "stream",
     "text": [
      "ChatBot: Hello! How can I assist you today?\n"
     ]
    },
    {
     "name": "stdin",
     "output_type": "stream",
     "text": [
      "You:  who are you\n"
     ]
    },
    {
     "name": "stdout",
     "output_type": "stream",
     "text": [
      "ChatBot: I'm not sure I understand, but I'm here to help!\n"
     ]
    },
    {
     "name": "stdin",
     "output_type": "stream",
     "text": [
      "You:  tell me a joke\n"
     ]
    },
    {
     "name": "stdout",
     "output_type": "stream",
     "text": [
      "ChatBot: Why did the computer go to the doctor? It had a virus!\n"
     ]
    }
   ],
   "source": [
    "import nltk\n",
    "from nltk.chat.util import Chat, reflections\n",
    "\n",
    "# Define pairs of patterns and responses\n",
    "pairs = [\n",
    "    [\n",
    "        r\"hi|hello|hey\",\n",
    "        [\"Hello! How can I assist you today?\", \"Hi there! How can I help you?\", \"Hey! What's up?\"]\n",
    "    ],\n",
    "    [\n",
    "        r\"what is your name?\",\n",
    "        [\"I am a chatbot created to assist you. You can call me ChatBot!\", \"I'm ChatBot. What would you like to know?\"]\n",
    "    ],\n",
    "    [\n",
    "        r\"how are you?\",\n",
    "        [\"I'm just a program, but I'm functioning as expected! How about you?\", \"I don't have feelings, but I'm happy to assist you!\"]\n",
    "    ],\n",
    "    [\n",
    "        r\"who created you?\",\n",
    "        [\"I was created by a Python developer using the NLTK library.\", \"A developer who loves coding made me!\"]\n",
    "    ],\n",
    "    [\n",
    "        r\"what can you do?\",\n",
    "        [\"I can chat with you, answer basic questions, and make your day a bit better! What would you like to know?\", \n",
    "         \"I'm here to chat, answer your questions, and assist with information. Feel free to ask me anything.\"]\n",
    "    ],\n",
    "    [\n",
    "        r\"what is (.*) ?\",\n",
    "        [\"I'm not a search engine, but I can try to answer simple questions!\"]\n",
    "    ],\n",
    "    [\n",
    "        r\"tell me a joke\",\n",
    "        [\"Why don't scientists trust atoms? Because they make up everything!\", \n",
    "         \"Why did the computer go to the doctor? It had a virus!\"]\n",
    "    ],\n",
    "    [\n",
    "        r\"what is the time?|current time\",\n",
    "        [\"I'm a chatbot and don't have access to the current time, but you can check your device's clock!\"]\n",
    "    ],\n",
    "    [\n",
    "        r\"what is your purpose?\",\n",
    "        [\"My purpose is to assist users with information and provide a friendly chatting experience.\", \n",
    "         \"I'm here to help with information and to chat with you!\"]\n",
    "    ],\n",
    "    [\n",
    "        r\"how do you work?\",\n",
    "        [\"I process your input and try to match it with patterns that I have been trained on. If I find a match, I respond accordingly.\",\n",
    "         \"I use predefined rules to understand and respond to your messages.\"]\n",
    "    ],\n",
    "    [\n",
    "        r\"where do you live?\",\n",
    "        [\"I live in the digital world, specifically in the memory of the device I'm running on.\", \n",
    "         \"I don't have a physical location, but I'm here in your system's memory!\"]\n",
    "    ],\n",
    "    [\n",
    "        r\"(.*) weather(.*)\",\n",
    "        [\"I can't provide real-time weather updates, but you can check a weather website or use a weather app.\", \n",
    "         \"Weather is not my specialty, but I'm sure a quick web search can help!\"]\n",
    "    ],\n",
    "    [\n",
    "        r\"(.*) your favorite (.*)?\",\n",
    "        [\"I don't have preferences, but I like learning new things!\", \n",
    "         \"As a program, I don't have favorites, but I enjoy interacting with users.\"]\n",
    "    ],\n",
    "    [\n",
    "        r\"thank you|thanks\",\n",
    "        [\"You're welcome! I'm always here to help.\", \"No problem! Feel free to ask if you need anything else.\"]\n",
    "    ],\n",
    "    [\n",
    "        r\"(.*) created (.*)?\",\n",
    "        [\"I was created by a programmer who loves Python.\", \n",
    "         \"Someone who enjoys coding made me.\"]\n",
    "    ],\n",
    "    [\n",
    "        r\"(.*) help (.*)\",\n",
    "        [\"I'm here to assist you! What do you need help with?\", \n",
    "         \"Let me know what you need help with, and I'll do my best!\"]\n",
    "    ],\n",
    "    [\n",
    "        r\"quit\",\n",
    "        [\"Goodbye! It was nice talking to you. Have a great day!\", \"Farewell! Feel free to chat with me anytime.\"]\n",
    "    ],\n",
    "    [\n",
    "        r\"(.*)\",\n",
    "        [\"I'm not sure I understand, but I'm here to help!\", \n",
    "         \"Can you please clarify? I'll do my best to assist!\", \n",
    "         \"I'm here for you. Could you elaborate on that?\"]\n",
    "    ]\n",
    "]\n",
    "\n",
    "# Create a chatbot instance\n",
    "chatbot = Chat(pairs, reflections)\n",
    "\n",
    "# Function to start the chat\n",
    "def start_chat():\n",
    "    print(\"Hello! I am a chatbot. Type 'quit' to exit.\")\n",
    "    while True:\n",
    "        user_input = input(\"You: \")\n",
    "        if user_input.lower() == \"quit\":\n",
    "            print(\"ChatBot: Goodbye! It was nice talking to you.\")\n",
    "            break\n",
    "        response = chatbot.respond(user_input)\n",
    "        print(\"ChatBot:\", response)\n",
    "\n",
    "# Start the chatbot\n",
    "if __name__ == \"__main__\":\n",
    "    start_chat()\n"
   ]
  },
  {
   "cell_type": "code",
   "execution_count": null,
   "id": "08d721ed-155f-47c2-8fda-db8eddcbb73e",
   "metadata": {},
   "outputs": [],
   "source": []
  }
 ],
 "metadata": {
  "kernelspec": {
   "display_name": "Python 3 (ipykernel)",
   "language": "python",
   "name": "python3"
  },
  "language_info": {
   "codemirror_mode": {
    "name": "ipython",
    "version": 3
   },
   "file_extension": ".py",
   "mimetype": "text/x-python",
   "name": "python",
   "nbconvert_exporter": "python",
   "pygments_lexer": "ipython3",
   "version": "3.11.7"
  }
 },
 "nbformat": 4,
 "nbformat_minor": 5
}
