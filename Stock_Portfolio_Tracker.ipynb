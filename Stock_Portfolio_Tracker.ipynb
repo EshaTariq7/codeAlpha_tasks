{
 "cells": [
  {
   "cell_type": "code",
   "execution_count": 1,
   "id": "bc560296-2b5b-4ab1-8bbd-dfe9d0868d89",
   "metadata": {},
   "outputs": [
    {
     "name": "stdout",
     "output_type": "stream",
     "text": [
      "Defaulting to user installation because normal site-packages is not writeable\n",
      "Requirement already satisfied: yfinance in c:\\users\\dell\\appdata\\roaming\\python\\python311\\site-packages (0.2.43)\n",
      "Requirement already satisfied: pandas>=1.3.0 in d:\\programdata\\anaconda3\\lib\\site-packages (from yfinance) (2.1.4)\n",
      "Requirement already satisfied: numpy>=1.16.5 in d:\\programdata\\anaconda3\\lib\\site-packages (from yfinance) (1.26.4)\n",
      "Requirement already satisfied: requests>=2.31 in d:\\programdata\\anaconda3\\lib\\site-packages (from yfinance) (2.31.0)\n",
      "Requirement already satisfied: multitasking>=0.0.7 in c:\\users\\dell\\appdata\\roaming\\python\\python311\\site-packages (from yfinance) (0.0.11)\n",
      "Requirement already satisfied: lxml>=4.9.1 in d:\\programdata\\anaconda3\\lib\\site-packages (from yfinance) (4.9.3)\n",
      "Requirement already satisfied: platformdirs>=2.0.0 in d:\\programdata\\anaconda3\\lib\\site-packages (from yfinance) (3.10.0)\n",
      "Requirement already satisfied: pytz>=2022.5 in d:\\programdata\\anaconda3\\lib\\site-packages (from yfinance) (2023.3.post1)\n",
      "Requirement already satisfied: frozendict>=2.3.4 in c:\\users\\dell\\appdata\\roaming\\python\\python311\\site-packages (from yfinance) (2.4.4)\n",
      "Requirement already satisfied: peewee>=3.16.2 in c:\\users\\dell\\appdata\\roaming\\python\\python311\\site-packages (from yfinance) (3.17.6)\n",
      "Requirement already satisfied: beautifulsoup4>=4.11.1 in d:\\programdata\\anaconda3\\lib\\site-packages (from yfinance) (4.12.2)\n",
      "Requirement already satisfied: html5lib>=1.1 in c:\\users\\dell\\appdata\\roaming\\python\\python311\\site-packages (from yfinance) (1.1)\n",
      "Requirement already satisfied: soupsieve>1.2 in d:\\programdata\\anaconda3\\lib\\site-packages (from beautifulsoup4>=4.11.1->yfinance) (2.5)\n",
      "Requirement already satisfied: six>=1.9 in d:\\programdata\\anaconda3\\lib\\site-packages (from html5lib>=1.1->yfinance) (1.16.0)\n",
      "Requirement already satisfied: webencodings in d:\\programdata\\anaconda3\\lib\\site-packages (from html5lib>=1.1->yfinance) (0.5.1)\n",
      "Requirement already satisfied: python-dateutil>=2.8.2 in d:\\programdata\\anaconda3\\lib\\site-packages (from pandas>=1.3.0->yfinance) (2.8.2)\n",
      "Requirement already satisfied: tzdata>=2022.1 in d:\\programdata\\anaconda3\\lib\\site-packages (from pandas>=1.3.0->yfinance) (2023.3)\n",
      "Requirement already satisfied: charset-normalizer<4,>=2 in d:\\programdata\\anaconda3\\lib\\site-packages (from requests>=2.31->yfinance) (2.0.4)\n",
      "Requirement already satisfied: idna<4,>=2.5 in d:\\programdata\\anaconda3\\lib\\site-packages (from requests>=2.31->yfinance) (3.4)\n",
      "Requirement already satisfied: urllib3<3,>=1.21.1 in d:\\programdata\\anaconda3\\lib\\site-packages (from requests>=2.31->yfinance) (2.0.7)\n",
      "Requirement already satisfied: certifi>=2017.4.17 in d:\\programdata\\anaconda3\\lib\\site-packages (from requests>=2.31->yfinance) (2024.2.2)\n"
     ]
    }
   ],
   "source": [
    "!pip install yfinance"
   ]
  },
  {
   "cell_type": "code",
   "execution_count": 3,
   "id": "871d1720-929d-489f-a7e8-ed63c952456c",
   "metadata": {},
   "outputs": [
    {
     "name": "stdout",
     "output_type": "stream",
     "text": [
      "\n",
      "1. Add Stock\n",
      "2. Remove Stock\n",
      "3. View Portfolio\n",
      "4. View Total Profit/Loss\n",
      "5. Exit\n"
     ]
    },
    {
     "name": "stdin",
     "output_type": "stream",
     "text": [
      "Choose an option:  1\n",
      "Enter the stock ticker:  RRR\n",
      "Enter the number of shares:  5\n",
      "Enter the purchase price per share:  6666\n"
     ]
    },
    {
     "name": "stdout",
     "output_type": "stream",
     "text": [
      "Added 5 shares of RRR to your portfolio.\n",
      "\n",
      "1. Add Stock\n",
      "2. Remove Stock\n",
      "3. View Portfolio\n",
      "4. View Total Profit/Loss\n",
      "5. Exit\n"
     ]
    },
    {
     "name": "stdin",
     "output_type": "stream",
     "text": [
      "Choose an option:  1\n",
      "Enter the stock ticker:  EE\n",
      "Enter the number of shares:  55\n",
      "Enter the purchase price per share:  333\n"
     ]
    },
    {
     "name": "stdout",
     "output_type": "stream",
     "text": [
      "Added 55 shares of EE to your portfolio.\n",
      "\n",
      "1. Add Stock\n",
      "2. Remove Stock\n",
      "3. View Portfolio\n",
      "4. View Total Profit/Loss\n",
      "5. Exit\n"
     ]
    },
    {
     "name": "stdin",
     "output_type": "stream",
     "text": [
      "Choose an option:  3\n"
     ]
    },
    {
     "name": "stdout",
     "output_type": "stream",
     "text": [
      "Your current portfolio:\n",
      "RRR - Quantity: 5, Purchase Price: $6666.0, Current Price: $52.68\n",
      "EE - Quantity: 55, Purchase Price: $333.0, Current Price: $23.33\n",
      "\n",
      "1. Add Stock\n",
      "2. Remove Stock\n",
      "3. View Portfolio\n",
      "4. View Total Profit/Loss\n",
      "5. Exit\n"
     ]
    },
    {
     "name": "stdin",
     "output_type": "stream",
     "text": [
      "Choose an option:  4\n"
     ]
    },
    {
     "name": "stdout",
     "output_type": "stream",
     "text": [
      "Total profit/loss of your portfolio: $-50098.45\n",
      "\n",
      "1. Add Stock\n",
      "2. Remove Stock\n",
      "3. View Portfolio\n",
      "4. View Total Profit/Loss\n",
      "5. Exit\n"
     ]
    },
    {
     "name": "stdin",
     "output_type": "stream",
     "text": [
      "Choose an option:  2\n",
      "Enter the stock ticker to remove:  EE\n",
      "Enter the number of shares to remove:  3\n"
     ]
    },
    {
     "name": "stdout",
     "output_type": "stream",
     "text": [
      "Removed 3 shares of EE from your portfolio.\n",
      "\n",
      "1. Add Stock\n",
      "2. Remove Stock\n",
      "3. View Portfolio\n",
      "4. View Total Profit/Loss\n",
      "5. Exit\n"
     ]
    },
    {
     "name": "stdin",
     "output_type": "stream",
     "text": [
      "Choose an option:  3\n"
     ]
    },
    {
     "name": "stdout",
     "output_type": "stream",
     "text": [
      "Your current portfolio:\n",
      "RRR - Quantity: 5, Purchase Price: $6666.0, Current Price: $52.68\n",
      "EE - Quantity: 52, Purchase Price: $333.0, Current Price: $23.33\n",
      "\n",
      "1. Add Stock\n",
      "2. Remove Stock\n",
      "3. View Portfolio\n",
      "4. View Total Profit/Loss\n",
      "5. Exit\n"
     ]
    },
    {
     "name": "stdin",
     "output_type": "stream",
     "text": [
      "Choose an option:  5\n"
     ]
    },
    {
     "name": "stdout",
     "output_type": "stream",
     "text": [
      "Exiting program.\n"
     ]
    }
   ],
   "source": [
    "import yfinance as yf\n",
    "\n",
    "class Stock:\n",
    "    def __init__(self, ticker, quantity, purchase_price):\n",
    "        self.ticker = ticker.upper()\n",
    "        self.quantity = quantity\n",
    "        self.purchase_price = purchase_price\n",
    "        self.current_price = 0.0\n",
    "\n",
    "    def fetch_current_price(self):\n",
    "        stock_data = yf.Ticker(self.ticker)\n",
    "        history = stock_data.history(period=\"1d\")\n",
    "        if not history.empty:\n",
    "            self.current_price = history['Close'].iloc[0]\n",
    "        else:\n",
    "            self.current_price = None\n",
    "            print(f\"{self.ticker}: possibly delisted or no price data found (period=1d)\")\n",
    "\n",
    "   \n",
    "\n",
    "    def calculate_profit_loss(self):\n",
    "        self.fetch_current_price()\n",
    "        return (self.current_price - self.purchase_price) * self.quantity\n",
    "\n",
    "    def __str__(self):\n",
    "        return f\"{self.ticker} - Quantity: {self.quantity}, Purchase Price: ${self.purchase_price}, Current Price: ${self.current_price:.2f}\"\n",
    "\n",
    "class Portfolio:\n",
    "    def __init__(self):\n",
    "        self.stocks = {}\n",
    "\n",
    "    def add_stock(self, ticker, quantity, purchase_price):\n",
    "        if ticker in self.stocks:\n",
    "            self.stocks[ticker].quantity += quantity\n",
    "        else:\n",
    "            self.stocks[ticker] = Stock(ticker, quantity, purchase_price)\n",
    "        print(f\"Added {quantity} shares of {ticker} to your portfolio.\")\n",
    "\n",
    "    def remove_stock(self, ticker, quantity):\n",
    "        if ticker in self.stocks:\n",
    "            if self.stocks[ticker].quantity > quantity:\n",
    "                self.stocks[ticker].quantity -= quantity\n",
    "                print(f\"Removed {quantity} shares of {ticker} from your portfolio.\")\n",
    "            elif self.stocks[ticker].quantity == quantity:\n",
    "                del self.stocks[ticker]\n",
    "                print(f\"Removed all shares of {ticker} from your portfolio.\")\n",
    "            else:\n",
    "                print(f\"You don't have enough shares of {ticker} to remove.\")\n",
    "        else:\n",
    "            print(f\"{ticker} is not in your portfolio.\")\n",
    "            \n",
    "    def view_portfolio(self):\n",
    "        if not self.stocks:\n",
    "            print(\"Your portfolio is empty.\")\n",
    "        else:\n",
    "            print(\"Your current portfolio:\")\n",
    "            for stock in self.stocks.values():\n",
    "                stock.fetch_current_price()\n",
    "                if stock.current_price is not None:\n",
    "                    print(stock)\n",
    "                else:\n",
    "                    print(f\"{stock.ticker}: No current price available.\")\n",
    "        \n",
    "\n",
    "  \n",
    "    def view_total_profit_loss(self):\n",
    "        total_profit_loss = 0.0\n",
    "        for stock in self.stocks.values():\n",
    "            total_profit_loss += stock.calculate_profit_loss()\n",
    "        print(f\"Total profit/loss of your portfolio: ${total_profit_loss:.2f}\")\n",
    "\n",
    "def main():\n",
    "    portfolio = Portfolio()\n",
    "\n",
    "    while True:\n",
    "        print(\"\\n1. Add Stock\")\n",
    "        print(\"2. Remove Stock\")\n",
    "        print(\"3. View Portfolio\")\n",
    "        print(\"4. View Total Profit/Loss\")\n",
    "        print(\"5. Exit\")\n",
    "\n",
    "        choice = input(\"Choose an option: \")\n",
    "\n",
    "        if choice == \"1\":\n",
    "            ticker = input(\"Enter the stock ticker: \").upper()\n",
    "            quantity = int(input(\"Enter the number of shares: \"))\n",
    "            purchase_price = float(input(\"Enter the purchase price per share: \"))\n",
    "            portfolio.add_stock(ticker, quantity, purchase_price)\n",
    "\n",
    "        elif choice == \"2\":\n",
    "            ticker = input(\"Enter the stock ticker to remove: \").upper()\n",
    "            quantity = int(input(\"Enter the number of shares to remove: \"))\n",
    "            portfolio.remove_stock(ticker, quantity)\n",
    "\n",
    "        elif choice == \"3\":\n",
    "            portfolio.view_portfolio()\n",
    "\n",
    "        elif choice == \"4\":\n",
    "            portfolio.view_total_profit_loss()\n",
    "\n",
    "        elif choice == \"5\":\n",
    "            print(\"Exiting program.\")\n",
    "            break\n",
    "\n",
    "        else:\n",
    "            print(\"Invalid option. Please try again.\")\n",
    "\n",
    "if __name__ == \"__main__\":\n",
    "    main()\n"
   ]
  },
  {
   "cell_type": "code",
   "execution_count": null,
   "id": "82adcb23-1dde-4b76-8aef-18c95ad60b72",
   "metadata": {},
   "outputs": [],
   "source": []
  }
 ],
 "metadata": {
  "kernelspec": {
   "display_name": "Python 3 (ipykernel)",
   "language": "python",
   "name": "python3"
  },
  "language_info": {
   "codemirror_mode": {
    "name": "ipython",
    "version": 3
   },
   "file_extension": ".py",
   "mimetype": "text/x-python",
   "name": "python",
   "nbconvert_exporter": "python",
   "pygments_lexer": "ipython3",
   "version": "3.11.7"
  }
 },
 "nbformat": 4,
 "nbformat_minor": 5
}
